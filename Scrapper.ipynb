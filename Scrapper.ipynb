{
 "metadata": {
  "language_info": {
   "codemirror_mode": {
    "name": "ipython",
    "version": 3
   },
   "file_extension": ".py",
   "mimetype": "text/x-python",
   "name": "python",
   "nbconvert_exporter": "python",
   "pygments_lexer": "ipython3",
   "version": "3.8.5-final"
  },
  "orig_nbformat": 2,
  "kernelspec": {
   "name": "python3",
   "display_name": "Python 3"
  }
 },
 "nbformat": 4,
 "nbformat_minor": 2,
 "cells": [
  {
   "cell_type": "code",
   "execution_count": 1,
   "metadata": {},
   "outputs": [],
   "source": [
    "from urllib.request import urlopen\n",
    "from bs4 import BeautifulSoup\n",
    "import pandas as pd"
   ]
  },
  {
   "cell_type": "markdown",
   "metadata": {},
   "source": [
    "## Scraping the Player data for the required Years from Basketball Reference (https://www.basketball-reference.com/) \n"
   ]
  },
  {
   "cell_type": "code",
   "execution_count": null,
   "metadata": {},
   "outputs": [],
   "source": [
    "# NBA season we will be analyzing\n",
    "year = 2015# URL page we will scraping (see image above)\n",
    "url = \"https://www.basketball-reference.com/leagues/NBA_{}_per_game.html\".format(year)# this is the HTML from the given URL\n",
    "html = urlopen(url)\n",
    "soup = BeautifulSoup(html)\n",
    "\n",
    "# use findALL() to get the column headers\n",
    "soup.findAll('tr', limit=2)# use getText()to extract the text we need into a list\n",
    "headers = [th.getText() for th in soup.findAll('tr', limit=2)[0].findAll('th')]# exclude the first column as we will not need the ranking order from Basketball Reference for the analysis\n",
    "headers = headers[1:]\n",
    "# avoid the first header row\n",
    "rows = soup.findAll('tr')[1:]\n",
    "player_stats = [[td.getText() for td in rows[i].findAll('td')]\n",
    "            for i in range(len(rows))]"
   ]
  },
  {
   "cell_type": "markdown",
   "metadata": {},
   "source": [
    "## Select Relevant columns to populate the DataFrame"
   ]
  },
  {
   "cell_type": "code",
   "execution_count": null,
   "metadata": {},
   "outputs": [],
   "source": [
    "cols = ['Year','Player', 'Pos', 'Age', 'Tm', 'G', 'GS', 'MP', 'FG', 'FGA', 'FG%', '3P',\n",
    "       '3PA', '3P%', '2P', '2PA', '2P%', 'eFG%', 'FT', 'FTA', 'FT%', 'ORB',\n",
    "       'DRB', 'TRB', 'AST', 'STL', 'BLK', 'TOV', 'PF', 'PTS']"
   ]
  },
  {
   "cell_type": "code",
   "execution_count": null,
   "metadata": {},
   "outputs": [],
   "source": [
    "stats = pd.DataFrame(player_stats, columns = headers)\n",
    "stats[\"Year\"] = year\n",
    "stats = stats[cols]\n",
    "#stats = stats.append(stats)"
   ]
  },
  {
   "cell_type": "markdown",
   "metadata": {},
   "source": [
    "#### Save DataFrame to CSV"
   ]
  },
  {
   "cell_type": "code",
   "execution_count": null,
   "metadata": {},
   "outputs": [],
   "source": [
    "stats.to_csv(\"Stats 2015-2019\")"
   ]
  },
  {
   "cell_type": "markdown",
   "metadata": {},
   "source": [
    "# Scraping the Team data for the Relevant Years"
   ]
  },
  {
   "cell_type": "markdown",
   "metadata": {},
   "source": [
    "### Creating a list of team to Scrape for to avoid scraping Teams that are no longer playing"
   ]
  },
  {
   "cell_type": "code",
   "execution_count": 11,
   "metadata": {},
   "outputs": [],
   "source": [
    "Teams = ['LAL', 'GSW', 'PHO', 'BOS', 'CHI', 'IND', 'SAC',\n",
    "        'HOU', 'SAS', 'POR', 'MIL', 'DET', 'PHI', \n",
    "        'UTA', 'DEN', 'ATL', 'CLE', 'NYK', 'DAL', \n",
    "        'LAC', 'MIA', 'ORL', 'MIN', 'TOR', 'WAS', \n",
    "        'MEM', 'CHA', 'OKC', 'BRK', 'NOP']"
   ]
  },
  {
   "cell_type": "code",
   "execution_count": 13,
   "metadata": {
    "tags": []
   },
   "outputs": [],
   "source": [
    "Tm_Soups = []\n",
    "for i in Teams :\n",
    "    url = \"https://www.basketball-reference.com/teams/\" + str(i) + \"/\"\n",
    "    #.format(t)\n",
    "    html = urlopen(url)\n",
    "    soup = BeautifulSoup(html,\"lxml\")\n",
    "    soup.findAll('tr', limit=2)\n",
    "    Tm_Soups.append(soup)"
   ]
  },
  {
   "cell_type": "code",
   "execution_count": 16,
   "metadata": {},
   "outputs": [],
   "source": [
    "headers = [th.getText() for th in Tm_Soups[0].findAll('tr', limit=2)[0].findAll('th')]\n",
    "headers = headers[1:]"
   ]
  },
  {
   "cell_type": "markdown",
   "metadata": {},
   "source": [
    "## Pre - Processing the data before creating the DataFrame"
   ]
  },
  {
   "cell_type": "code",
   "execution_count": 60,
   "metadata": {
    "tags": []
   },
   "outputs": [],
   "source": [
    "Team_name = []\n",
    "Season = []\n",
    "Wins = []\n",
    "Year_tm = []\n",
    "Tm = []\n",
    "a=0\n",
    "for l in Tm_Soups:  \n",
    "    y = 2019  \n",
    "    rows = l.findAll('tr')\n",
    "    team_stats = [[td.getText() for td in rows[i].findAll('td') or rows[i].findAll('th')]\n",
    "                for i in range(len(rows))]\n",
    "    \n",
    "    for t in range(0,len(team_stats)):\n",
    "        if team_stats[t][1] != \"Lg\":\n",
    "            Team_name.append(team_stats[t][1])\n",
    "            Wins.append(team_stats[t][3])\n",
    "            Year_tm.append(y)\n",
    "            y = y-1\n",
    "            Tm.append(Teams[a])\n",
    "    a+=1    \n"
   ]
  },
  {
   "cell_type": "code",
   "execution_count": 61,
   "metadata": {},
   "outputs": [],
   "source": [
    "Final_teams = []\n",
    "for i in range(0,len(Team_name)):\n",
    "    Final_teams.append([Year_tm[i],Tm[i],Team_name[i],Wins[i]])\n",
    "cols_tm = [\"Year\",\"Tm\",\"Team_Name\",\"Wins\"] "
   ]
  },
  {
   "cell_type": "code",
   "execution_count": 63,
   "metadata": {},
   "outputs": [],
   "source": [
    "Team_df = pd.DataFrame(Final_teams)\n",
    "Team_df.columns = cols_tm"
   ]
  },
  {
   "cell_type": "code",
   "execution_count": 64,
   "metadata": {},
   "outputs": [
    {
     "output_type": "execute_result",
     "data": {
      "text/plain": "   Year   Tm            Team_Name Wins\n0  2019  LAL  Los Angeles Lakers*   19\n1  2018  LAL   Los Angeles Lakers   45\n2  2017  LAL   Los Angeles Lakers   47\n3  2016  LAL   Los Angeles Lakers   56\n4  2015  LAL   Los Angeles Lakers   65",
      "text/html": "<div>\n<style scoped>\n    .dataframe tbody tr th:only-of-type {\n        vertical-align: middle;\n    }\n\n    .dataframe tbody tr th {\n        vertical-align: top;\n    }\n\n    .dataframe thead th {\n        text-align: right;\n    }\n</style>\n<table border=\"1\" class=\"dataframe\">\n  <thead>\n    <tr style=\"text-align: right;\">\n      <th></th>\n      <th>Year</th>\n      <th>Tm</th>\n      <th>Team_Name</th>\n      <th>Wins</th>\n    </tr>\n  </thead>\n  <tbody>\n    <tr>\n      <th>0</th>\n      <td>2019</td>\n      <td>LAL</td>\n      <td>Los Angeles Lakers*</td>\n      <td>19</td>\n    </tr>\n    <tr>\n      <th>1</th>\n      <td>2018</td>\n      <td>LAL</td>\n      <td>Los Angeles Lakers</td>\n      <td>45</td>\n    </tr>\n    <tr>\n      <th>2</th>\n      <td>2017</td>\n      <td>LAL</td>\n      <td>Los Angeles Lakers</td>\n      <td>47</td>\n    </tr>\n    <tr>\n      <th>3</th>\n      <td>2016</td>\n      <td>LAL</td>\n      <td>Los Angeles Lakers</td>\n      <td>56</td>\n    </tr>\n    <tr>\n      <th>4</th>\n      <td>2015</td>\n      <td>LAL</td>\n      <td>Los Angeles Lakers</td>\n      <td>65</td>\n    </tr>\n  </tbody>\n</table>\n</div>"
     },
     "metadata": {},
     "execution_count": 64
    }
   ],
   "source": [
    "Team_df.head()"
   ]
  },
  {
   "cell_type": "markdown",
   "metadata": {},
   "source": [
    "#### Save Team data to CSV"
   ]
  },
  {
   "cell_type": "code",
   "execution_count": 65,
   "metadata": {},
   "outputs": [],
   "source": [
    "Team_df.to_csv(\"Input/Team_stats\")"
   ]
  }
 ]
}
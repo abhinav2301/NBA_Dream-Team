{
 "metadata": {
  "language_info": {
   "codemirror_mode": {
    "name": "ipython",
    "version": 3
   },
   "file_extension": ".py",
   "mimetype": "text/x-python",
   "name": "python",
   "nbconvert_exporter": "python",
   "pygments_lexer": "ipython3",
   "version": "3.8.5-final"
  },
  "orig_nbformat": 2,
  "kernelspec": {
   "name": "python3",
   "display_name": "Python 3"
  }
 },
 "nbformat": 4,
 "nbformat_minor": 2,
 "cells": [
  {
   "cell_type": "code",
   "execution_count": 30,
   "metadata": {},
   "outputs": [],
   "source": [
    "import pandas as pd\n",
    "import numpy as np\n",
    "import matplotlib.pyplot as plt"
   ]
  },
  {
   "cell_type": "code",
   "execution_count": 31,
   "metadata": {},
   "outputs": [],
   "source": [
    "Season = pd.read_csv(\"Input/Seasons_Stats.csv\")\n",
    "Player1 = pd.read_csv(\"Input/player_data.csv\")\n",
    "Player2 = pd.read_csv(\"Input/Players.csv\")\n",
    "Additional_seasons = pd.read_csv(\"Input/Stats 2015-2019\")"
   ]
  },
  {
   "cell_type": "code",
   "execution_count": 32,
   "metadata": {},
   "outputs": [
    {
     "output_type": "execute_result",
     "data": {
      "text/plain": "   Unnamed: 0    Year           Player  Pos   Age   Tm     G  GS  MP  PER  \\\n0           0  1950.0  Curly Armstrong  G-F  31.0  FTW  63.0 NaN NaN  NaN   \n1           1  1950.0     Cliff Barker   SG  29.0  INO  49.0 NaN NaN  NaN   \n2           2  1950.0    Leo Barnhorst   SF  25.0  CHS  67.0 NaN NaN  NaN   \n3           3  1950.0       Ed Bartels    F  24.0  TOT  15.0 NaN NaN  NaN   \n4           4  1950.0       Ed Bartels    F  24.0  DNN  13.0 NaN NaN  NaN   \n\n   ...    FT%  ORB  DRB  TRB    AST  STL  BLK  TOV     PF    PTS  \n0  ...  0.705  NaN  NaN  NaN  176.0  NaN  NaN  NaN  217.0  458.0  \n1  ...  0.708  NaN  NaN  NaN  109.0  NaN  NaN  NaN   99.0  279.0  \n2  ...  0.698  NaN  NaN  NaN  140.0  NaN  NaN  NaN  192.0  438.0  \n3  ...  0.559  NaN  NaN  NaN   20.0  NaN  NaN  NaN   29.0   63.0  \n4  ...  0.548  NaN  NaN  NaN   20.0  NaN  NaN  NaN   27.0   59.0  \n\n[5 rows x 53 columns]",
      "text/html": "<div>\n<style scoped>\n    .dataframe tbody tr th:only-of-type {\n        vertical-align: middle;\n    }\n\n    .dataframe tbody tr th {\n        vertical-align: top;\n    }\n\n    .dataframe thead th {\n        text-align: right;\n    }\n</style>\n<table border=\"1\" class=\"dataframe\">\n  <thead>\n    <tr style=\"text-align: right;\">\n      <th></th>\n      <th>Unnamed: 0</th>\n      <th>Year</th>\n      <th>Player</th>\n      <th>Pos</th>\n      <th>Age</th>\n      <th>Tm</th>\n      <th>G</th>\n      <th>GS</th>\n      <th>MP</th>\n      <th>PER</th>\n      <th>...</th>\n      <th>FT%</th>\n      <th>ORB</th>\n      <th>DRB</th>\n      <th>TRB</th>\n      <th>AST</th>\n      <th>STL</th>\n      <th>BLK</th>\n      <th>TOV</th>\n      <th>PF</th>\n      <th>PTS</th>\n    </tr>\n  </thead>\n  <tbody>\n    <tr>\n      <th>0</th>\n      <td>0</td>\n      <td>1950.0</td>\n      <td>Curly Armstrong</td>\n      <td>G-F</td>\n      <td>31.0</td>\n      <td>FTW</td>\n      <td>63.0</td>\n      <td>NaN</td>\n      <td>NaN</td>\n      <td>NaN</td>\n      <td>...</td>\n      <td>0.705</td>\n      <td>NaN</td>\n      <td>NaN</td>\n      <td>NaN</td>\n      <td>176.0</td>\n      <td>NaN</td>\n      <td>NaN</td>\n      <td>NaN</td>\n      <td>217.0</td>\n      <td>458.0</td>\n    </tr>\n    <tr>\n      <th>1</th>\n      <td>1</td>\n      <td>1950.0</td>\n      <td>Cliff Barker</td>\n      <td>SG</td>\n      <td>29.0</td>\n      <td>INO</td>\n      <td>49.0</td>\n      <td>NaN</td>\n      <td>NaN</td>\n      <td>NaN</td>\n      <td>...</td>\n      <td>0.708</td>\n      <td>NaN</td>\n      <td>NaN</td>\n      <td>NaN</td>\n      <td>109.0</td>\n      <td>NaN</td>\n      <td>NaN</td>\n      <td>NaN</td>\n      <td>99.0</td>\n      <td>279.0</td>\n    </tr>\n    <tr>\n      <th>2</th>\n      <td>2</td>\n      <td>1950.0</td>\n      <td>Leo Barnhorst</td>\n      <td>SF</td>\n      <td>25.0</td>\n      <td>CHS</td>\n      <td>67.0</td>\n      <td>NaN</td>\n      <td>NaN</td>\n      <td>NaN</td>\n      <td>...</td>\n      <td>0.698</td>\n      <td>NaN</td>\n      <td>NaN</td>\n      <td>NaN</td>\n      <td>140.0</td>\n      <td>NaN</td>\n      <td>NaN</td>\n      <td>NaN</td>\n      <td>192.0</td>\n      <td>438.0</td>\n    </tr>\n    <tr>\n      <th>3</th>\n      <td>3</td>\n      <td>1950.0</td>\n      <td>Ed Bartels</td>\n      <td>F</td>\n      <td>24.0</td>\n      <td>TOT</td>\n      <td>15.0</td>\n      <td>NaN</td>\n      <td>NaN</td>\n      <td>NaN</td>\n      <td>...</td>\n      <td>0.559</td>\n      <td>NaN</td>\n      <td>NaN</td>\n      <td>NaN</td>\n      <td>20.0</td>\n      <td>NaN</td>\n      <td>NaN</td>\n      <td>NaN</td>\n      <td>29.0</td>\n      <td>63.0</td>\n    </tr>\n    <tr>\n      <th>4</th>\n      <td>4</td>\n      <td>1950.0</td>\n      <td>Ed Bartels</td>\n      <td>F</td>\n      <td>24.0</td>\n      <td>DNN</td>\n      <td>13.0</td>\n      <td>NaN</td>\n      <td>NaN</td>\n      <td>NaN</td>\n      <td>...</td>\n      <td>0.548</td>\n      <td>NaN</td>\n      <td>NaN</td>\n      <td>NaN</td>\n      <td>20.0</td>\n      <td>NaN</td>\n      <td>NaN</td>\n      <td>NaN</td>\n      <td>27.0</td>\n      <td>59.0</td>\n    </tr>\n  </tbody>\n</table>\n<p>5 rows × 53 columns</p>\n</div>"
     },
     "metadata": {},
     "execution_count": 32
    }
   ],
   "source": [
    "Season.head()"
   ]
  },
  {
   "cell_type": "code",
   "execution_count": 33,
   "metadata": {},
   "outputs": [
    {
     "output_type": "execute_result",
     "data": {
      "text/plain": "                  name  year_start  year_end position height  weight  \\\n0       Alaa Abdelnaby        1991      1995      F-C   6-10   240.0   \n1      Zaid Abdul-Aziz        1969      1978      C-F    6-9   235.0   \n2  Kareem Abdul-Jabbar        1970      1989        C    7-2   225.0   \n3   Mahmoud Abdul-Rauf        1991      2001        G    6-1   162.0   \n4    Tariq Abdul-Wahad        1998      2003        F    6-6   223.0   \n\n         birth_date                                college  \n0     June 24, 1968                        Duke University  \n1     April 7, 1946                  Iowa State University  \n2    April 16, 1947  University of California, Los Angeles  \n3     March 9, 1969             Louisiana State University  \n4  November 3, 1974              San Jose State University  ",
      "text/html": "<div>\n<style scoped>\n    .dataframe tbody tr th:only-of-type {\n        vertical-align: middle;\n    }\n\n    .dataframe tbody tr th {\n        vertical-align: top;\n    }\n\n    .dataframe thead th {\n        text-align: right;\n    }\n</style>\n<table border=\"1\" class=\"dataframe\">\n  <thead>\n    <tr style=\"text-align: right;\">\n      <th></th>\n      <th>name</th>\n      <th>year_start</th>\n      <th>year_end</th>\n      <th>position</th>\n      <th>height</th>\n      <th>weight</th>\n      <th>birth_date</th>\n      <th>college</th>\n    </tr>\n  </thead>\n  <tbody>\n    <tr>\n      <th>0</th>\n      <td>Alaa Abdelnaby</td>\n      <td>1991</td>\n      <td>1995</td>\n      <td>F-C</td>\n      <td>6-10</td>\n      <td>240.0</td>\n      <td>June 24, 1968</td>\n      <td>Duke University</td>\n    </tr>\n    <tr>\n      <th>1</th>\n      <td>Zaid Abdul-Aziz</td>\n      <td>1969</td>\n      <td>1978</td>\n      <td>C-F</td>\n      <td>6-9</td>\n      <td>235.0</td>\n      <td>April 7, 1946</td>\n      <td>Iowa State University</td>\n    </tr>\n    <tr>\n      <th>2</th>\n      <td>Kareem Abdul-Jabbar</td>\n      <td>1970</td>\n      <td>1989</td>\n      <td>C</td>\n      <td>7-2</td>\n      <td>225.0</td>\n      <td>April 16, 1947</td>\n      <td>University of California, Los Angeles</td>\n    </tr>\n    <tr>\n      <th>3</th>\n      <td>Mahmoud Abdul-Rauf</td>\n      <td>1991</td>\n      <td>2001</td>\n      <td>G</td>\n      <td>6-1</td>\n      <td>162.0</td>\n      <td>March 9, 1969</td>\n      <td>Louisiana State University</td>\n    </tr>\n    <tr>\n      <th>4</th>\n      <td>Tariq Abdul-Wahad</td>\n      <td>1998</td>\n      <td>2003</td>\n      <td>F</td>\n      <td>6-6</td>\n      <td>223.0</td>\n      <td>November 3, 1974</td>\n      <td>San Jose State University</td>\n    </tr>\n  </tbody>\n</table>\n</div>"
     },
     "metadata": {},
     "execution_count": 33
    }
   ],
   "source": [
    "Player1.head()"
   ]
  },
  {
   "cell_type": "code",
   "execution_count": 34,
   "metadata": {},
   "outputs": [
    {
     "output_type": "execute_result",
     "data": {
      "text/plain": "   Unnamed: 0           Player  height  weight  \\\n0           0  Curly Armstrong   180.0    77.0   \n1           1     Cliff Barker   188.0    83.0   \n2           2    Leo Barnhorst   193.0    86.0   \n3           3       Ed Bartels   196.0    88.0   \n4           4      Ralph Beard   178.0    79.0   \n\n                           collage    born   birth_city birth_state  \n0               Indiana University  1918.0          NaN         NaN  \n1           University of Kentucky  1921.0     Yorktown     Indiana  \n2         University of Notre Dame  1924.0          NaN         NaN  \n3  North Carolina State University  1925.0          NaN         NaN  \n4           University of Kentucky  1927.0  Hardinsburg    Kentucky  ",
      "text/html": "<div>\n<style scoped>\n    .dataframe tbody tr th:only-of-type {\n        vertical-align: middle;\n    }\n\n    .dataframe tbody tr th {\n        vertical-align: top;\n    }\n\n    .dataframe thead th {\n        text-align: right;\n    }\n</style>\n<table border=\"1\" class=\"dataframe\">\n  <thead>\n    <tr style=\"text-align: right;\">\n      <th></th>\n      <th>Unnamed: 0</th>\n      <th>Player</th>\n      <th>height</th>\n      <th>weight</th>\n      <th>collage</th>\n      <th>born</th>\n      <th>birth_city</th>\n      <th>birth_state</th>\n    </tr>\n  </thead>\n  <tbody>\n    <tr>\n      <th>0</th>\n      <td>0</td>\n      <td>Curly Armstrong</td>\n      <td>180.0</td>\n      <td>77.0</td>\n      <td>Indiana University</td>\n      <td>1918.0</td>\n      <td>NaN</td>\n      <td>NaN</td>\n    </tr>\n    <tr>\n      <th>1</th>\n      <td>1</td>\n      <td>Cliff Barker</td>\n      <td>188.0</td>\n      <td>83.0</td>\n      <td>University of Kentucky</td>\n      <td>1921.0</td>\n      <td>Yorktown</td>\n      <td>Indiana</td>\n    </tr>\n    <tr>\n      <th>2</th>\n      <td>2</td>\n      <td>Leo Barnhorst</td>\n      <td>193.0</td>\n      <td>86.0</td>\n      <td>University of Notre Dame</td>\n      <td>1924.0</td>\n      <td>NaN</td>\n      <td>NaN</td>\n    </tr>\n    <tr>\n      <th>3</th>\n      <td>3</td>\n      <td>Ed Bartels</td>\n      <td>196.0</td>\n      <td>88.0</td>\n      <td>North Carolina State University</td>\n      <td>1925.0</td>\n      <td>NaN</td>\n      <td>NaN</td>\n    </tr>\n    <tr>\n      <th>4</th>\n      <td>4</td>\n      <td>Ralph Beard</td>\n      <td>178.0</td>\n      <td>79.0</td>\n      <td>University of Kentucky</td>\n      <td>1927.0</td>\n      <td>Hardinsburg</td>\n      <td>Kentucky</td>\n    </tr>\n  </tbody>\n</table>\n</div>"
     },
     "metadata": {},
     "execution_count": 34
    }
   ],
   "source": [
    "Player2.head()"
   ]
  },
  {
   "cell_type": "code",
   "execution_count": 35,
   "metadata": {},
   "outputs": [],
   "source": [
    "Season.drop(\"Unnamed: 0\",axis=1,inplace=True)\n",
    "Season.dropna(how=\"all\",inplace=True)\n",
    "Player1.dropna(how=\"all\",inplace=True)\n",
    "Player2.drop(\"Unnamed: 0\",axis=1,inplace=True)\n",
    "Player2.dropna(how=\"all\",inplace=True)\n"
   ]
  },
  {
   "cell_type": "code",
   "execution_count": 36,
   "metadata": {},
   "outputs": [],
   "source": [
    "Player = pd.merge(Player1,Player2,left_on=\"name\",right_on=\"Player\")"
   ]
  },
  {
   "cell_type": "code",
   "execution_count": 37,
   "metadata": {},
   "outputs": [],
   "source": [
    "Player.drop(\"Player\",axis=1,inplace=True)\n",
    "Player.drop(\"collage\",axis=1,inplace=True)\n",
    "Player.drop(\"height_x\",axis=1,inplace=True)\n",
    "Player.drop(\"weight_x\",axis=1,inplace=True)\n",
    "Player.drop(\"birth_date\",axis=1,inplace=True)"
   ]
  },
  {
   "cell_type": "code",
   "execution_count": 38,
   "metadata": {},
   "outputs": [
    {
     "output_type": "execute_result",
     "data": {
      "text/plain": "                  name  year_start  year_end position  \\\n0       Alaa Abdelnaby        1991      1995      F-C   \n1      Zaid Abdul-Aziz        1969      1978      C-F   \n2   Mahmoud Abdul-Rauf        1991      2001        G   \n3    Tariq Abdul-Wahad        1998      2003        F   \n4  Shareef Abdur-Rahim        1997      2008        F   \n\n                      college  height_y  weight_y    born      birth_city  \\\n0             Duke University     208.0     108.0  1968.0           Cairo   \n1       Iowa State University     206.0     106.0  1946.0        Brooklyn   \n2  Louisiana State University     188.0      83.0  1942.0      Wilmington   \n3   San Jose State University     198.0     101.0  1974.0  Maisons Alfort   \n4    University of California     206.0     102.0  1976.0        Marietta   \n\n  birth_state  \n0       Egypt  \n1    New York  \n2    Delaware  \n3      France  \n4     Georgia  ",
      "text/html": "<div>\n<style scoped>\n    .dataframe tbody tr th:only-of-type {\n        vertical-align: middle;\n    }\n\n    .dataframe tbody tr th {\n        vertical-align: top;\n    }\n\n    .dataframe thead th {\n        text-align: right;\n    }\n</style>\n<table border=\"1\" class=\"dataframe\">\n  <thead>\n    <tr style=\"text-align: right;\">\n      <th></th>\n      <th>name</th>\n      <th>year_start</th>\n      <th>year_end</th>\n      <th>position</th>\n      <th>college</th>\n      <th>height_y</th>\n      <th>weight_y</th>\n      <th>born</th>\n      <th>birth_city</th>\n      <th>birth_state</th>\n    </tr>\n  </thead>\n  <tbody>\n    <tr>\n      <th>0</th>\n      <td>Alaa Abdelnaby</td>\n      <td>1991</td>\n      <td>1995</td>\n      <td>F-C</td>\n      <td>Duke University</td>\n      <td>208.0</td>\n      <td>108.0</td>\n      <td>1968.0</td>\n      <td>Cairo</td>\n      <td>Egypt</td>\n    </tr>\n    <tr>\n      <th>1</th>\n      <td>Zaid Abdul-Aziz</td>\n      <td>1969</td>\n      <td>1978</td>\n      <td>C-F</td>\n      <td>Iowa State University</td>\n      <td>206.0</td>\n      <td>106.0</td>\n      <td>1946.0</td>\n      <td>Brooklyn</td>\n      <td>New York</td>\n    </tr>\n    <tr>\n      <th>2</th>\n      <td>Mahmoud Abdul-Rauf</td>\n      <td>1991</td>\n      <td>2001</td>\n      <td>G</td>\n      <td>Louisiana State University</td>\n      <td>188.0</td>\n      <td>83.0</td>\n      <td>1942.0</td>\n      <td>Wilmington</td>\n      <td>Delaware</td>\n    </tr>\n    <tr>\n      <th>3</th>\n      <td>Tariq Abdul-Wahad</td>\n      <td>1998</td>\n      <td>2003</td>\n      <td>F</td>\n      <td>San Jose State University</td>\n      <td>198.0</td>\n      <td>101.0</td>\n      <td>1974.0</td>\n      <td>Maisons Alfort</td>\n      <td>France</td>\n    </tr>\n    <tr>\n      <th>4</th>\n      <td>Shareef Abdur-Rahim</td>\n      <td>1997</td>\n      <td>2008</td>\n      <td>F</td>\n      <td>University of California</td>\n      <td>206.0</td>\n      <td>102.0</td>\n      <td>1976.0</td>\n      <td>Marietta</td>\n      <td>Georgia</td>\n    </tr>\n  </tbody>\n</table>\n</div>"
     },
     "metadata": {},
     "execution_count": 38
    }
   ],
   "source": [
    "Player.head()"
   ]
  },
  {
   "cell_type": "code",
   "execution_count": 39,
   "metadata": {},
   "outputs": [],
   "source": [
    "Player.rename(columns = {\"height_y\":\"height\",\"weight_y\":\"weight\",\"born\":\"birth_year\"}, inplace=True)"
   ]
  },
  {
   "cell_type": "code",
   "execution_count": 40,
   "metadata": {},
   "outputs": [],
   "source": [
    "Additional_seasons = Additional_seasons.drop(columns=\"Unnamed: 0\")\n",
    "Season = Season[Additional_seasons.columns]\n",
    "Season = Season.append(Additional_seasons)"
   ]
  },
  {
   "cell_type": "code",
   "execution_count": 41,
   "metadata": {},
   "outputs": [
    {
     "output_type": "execute_result",
     "data": {
      "text/plain": "     Year           Player  Pos   Age   Tm     G  GS  MP     FG    FGA  ...  \\\n0  1950.0  Curly Armstrong  G-F  31.0  FTW  63.0 NaN NaN  144.0  516.0  ...   \n1  1950.0     Cliff Barker   SG  29.0  INO  49.0 NaN NaN  102.0  274.0  ...   \n2  1950.0    Leo Barnhorst   SF  25.0  CHS  67.0 NaN NaN  174.0  499.0  ...   \n3  1950.0       Ed Bartels    F  24.0  TOT  15.0 NaN NaN   22.0   86.0  ...   \n4  1950.0       Ed Bartels    F  24.0  DNN  13.0 NaN NaN   21.0   82.0  ...   \n\n     FT%  ORB  DRB  TRB    AST  STL  BLK  TOV     PF    PTS  \n0  0.705  NaN  NaN  NaN  176.0  NaN  NaN  NaN  217.0  458.0  \n1  0.708  NaN  NaN  NaN  109.0  NaN  NaN  NaN   99.0  279.0  \n2  0.698  NaN  NaN  NaN  140.0  NaN  NaN  NaN  192.0  438.0  \n3  0.559  NaN  NaN  NaN   20.0  NaN  NaN  NaN   29.0   63.0  \n4  0.548  NaN  NaN  NaN   20.0  NaN  NaN  NaN   27.0   59.0  \n\n[5 rows x 30 columns]",
      "text/html": "<div>\n<style scoped>\n    .dataframe tbody tr th:only-of-type {\n        vertical-align: middle;\n    }\n\n    .dataframe tbody tr th {\n        vertical-align: top;\n    }\n\n    .dataframe thead th {\n        text-align: right;\n    }\n</style>\n<table border=\"1\" class=\"dataframe\">\n  <thead>\n    <tr style=\"text-align: right;\">\n      <th></th>\n      <th>Year</th>\n      <th>Player</th>\n      <th>Pos</th>\n      <th>Age</th>\n      <th>Tm</th>\n      <th>G</th>\n      <th>GS</th>\n      <th>MP</th>\n      <th>FG</th>\n      <th>FGA</th>\n      <th>...</th>\n      <th>FT%</th>\n      <th>ORB</th>\n      <th>DRB</th>\n      <th>TRB</th>\n      <th>AST</th>\n      <th>STL</th>\n      <th>BLK</th>\n      <th>TOV</th>\n      <th>PF</th>\n      <th>PTS</th>\n    </tr>\n  </thead>\n  <tbody>\n    <tr>\n      <th>0</th>\n      <td>1950.0</td>\n      <td>Curly Armstrong</td>\n      <td>G-F</td>\n      <td>31.0</td>\n      <td>FTW</td>\n      <td>63.0</td>\n      <td>NaN</td>\n      <td>NaN</td>\n      <td>144.0</td>\n      <td>516.0</td>\n      <td>...</td>\n      <td>0.705</td>\n      <td>NaN</td>\n      <td>NaN</td>\n      <td>NaN</td>\n      <td>176.0</td>\n      <td>NaN</td>\n      <td>NaN</td>\n      <td>NaN</td>\n      <td>217.0</td>\n      <td>458.0</td>\n    </tr>\n    <tr>\n      <th>1</th>\n      <td>1950.0</td>\n      <td>Cliff Barker</td>\n      <td>SG</td>\n      <td>29.0</td>\n      <td>INO</td>\n      <td>49.0</td>\n      <td>NaN</td>\n      <td>NaN</td>\n      <td>102.0</td>\n      <td>274.0</td>\n      <td>...</td>\n      <td>0.708</td>\n      <td>NaN</td>\n      <td>NaN</td>\n      <td>NaN</td>\n      <td>109.0</td>\n      <td>NaN</td>\n      <td>NaN</td>\n      <td>NaN</td>\n      <td>99.0</td>\n      <td>279.0</td>\n    </tr>\n    <tr>\n      <th>2</th>\n      <td>1950.0</td>\n      <td>Leo Barnhorst</td>\n      <td>SF</td>\n      <td>25.0</td>\n      <td>CHS</td>\n      <td>67.0</td>\n      <td>NaN</td>\n      <td>NaN</td>\n      <td>174.0</td>\n      <td>499.0</td>\n      <td>...</td>\n      <td>0.698</td>\n      <td>NaN</td>\n      <td>NaN</td>\n      <td>NaN</td>\n      <td>140.0</td>\n      <td>NaN</td>\n      <td>NaN</td>\n      <td>NaN</td>\n      <td>192.0</td>\n      <td>438.0</td>\n    </tr>\n    <tr>\n      <th>3</th>\n      <td>1950.0</td>\n      <td>Ed Bartels</td>\n      <td>F</td>\n      <td>24.0</td>\n      <td>TOT</td>\n      <td>15.0</td>\n      <td>NaN</td>\n      <td>NaN</td>\n      <td>22.0</td>\n      <td>86.0</td>\n      <td>...</td>\n      <td>0.559</td>\n      <td>NaN</td>\n      <td>NaN</td>\n      <td>NaN</td>\n      <td>20.0</td>\n      <td>NaN</td>\n      <td>NaN</td>\n      <td>NaN</td>\n      <td>29.0</td>\n      <td>63.0</td>\n    </tr>\n    <tr>\n      <th>4</th>\n      <td>1950.0</td>\n      <td>Ed Bartels</td>\n      <td>F</td>\n      <td>24.0</td>\n      <td>DNN</td>\n      <td>13.0</td>\n      <td>NaN</td>\n      <td>NaN</td>\n      <td>21.0</td>\n      <td>82.0</td>\n      <td>...</td>\n      <td>0.548</td>\n      <td>NaN</td>\n      <td>NaN</td>\n      <td>NaN</td>\n      <td>20.0</td>\n      <td>NaN</td>\n      <td>NaN</td>\n      <td>NaN</td>\n      <td>27.0</td>\n      <td>59.0</td>\n    </tr>\n  </tbody>\n</table>\n<p>5 rows × 30 columns</p>\n</div>"
     },
     "metadata": {},
     "execution_count": 41
    }
   ],
   "source": [
    "Season.head()"
   ]
  },
  {
   "cell_type": "code",
   "execution_count": 43,
   "metadata": {},
   "outputs": [],
   "source": [
    "Season = Season[Season[\"Year\"] >= 1980]"
   ]
  },
  {
   "cell_type": "code",
   "execution_count": 47,
   "metadata": {},
   "outputs": [
    {
     "output_type": "execute_result",
     "data": {
      "text/plain": "array(['LAL', 'GSW', 'PHO', 'BOS', 'CHI', 'WSB', 'SEA', 'IND', 'SDC',\n       'HOU', 'TOT', 'NJN', 'SAS', 'POR', 'MIL', 'DET', 'PHI', 'KCK',\n       'UTA', 'DEN', 'ATL', 'CLE', 'NYK', 'DAL', 'LAC', 'SAC', 'CHH',\n       'MIA', 'ORL', 'MIN', 'VAN', 'TOR', 'WAS', 'MEM', 'NOH', 'CHA',\n       'NOK', 'OKC', 'BRK', 'NOP', 'CHO', nan], dtype=object)"
     },
     "metadata": {},
     "execution_count": 47
    }
   ],
   "source": [
    "Season[\"Tm\"].unique()"
   ]
  },
  {
   "cell_type": "code",
   "execution_count": null,
   "metadata": {},
   "outputs": [],
   "source": []
  }
 ]
}